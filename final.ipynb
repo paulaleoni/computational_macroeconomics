{
 "cells": [
  {
   "cell_type": "markdown",
   "metadata": {},
   "source": [
    "# Final Assignment Computational Macroeconomics\n",
    "\n",
    "### Paula Beck\n",
    "04.03.2022"
   ]
  },
  {
   "cell_type": "code",
   "execution_count": 105,
   "metadata": {},
   "outputs": [],
   "source": [
    "# import all necessary packages\n",
    "\n",
    "import numpy as np\n",
    "from scipy.optimize import fsolve\n",
    "import matplotlib.pyplot as plt\n",
    "from matplotlib import cm\n",
    "\n",
    "# set seed for random numbers\n",
    "np.random.seed(123)"
   ]
  },
  {
   "cell_type": "markdown",
   "metadata": {},
   "source": [
    "# #1 Define matrices\n",
    "$ A z_t = B$ ; $z_t = [g_t, y_t, \\pi_t, i_t]'$\n",
    "\n",
    "$ A = \\begin{bmatrix}\n",
    "    1 & 0 & 0 & 0 \\\\\n",
    "    - \\bar{g} & 1 & 0 & (1-\\bar{g}) \\sigma^{-1} \\\\\n",
    "    \\kappa \\sigma \\frac{\\bar{g}}{1-\\bar{g}} & -\\kappa(\\frac{\\sigma}{1-\\bar{g}} + \\eta) & 1 & 0 \\\\\n",
    "    0 & -\\phi_y & - \\phi_{\\pi} & 1 \n",
    "  \\end{bmatrix} $\n",
    "\n",
    "$ B = \\begin{bmatrix}\n",
    "      \\rho_g g_{t-1} + \\epsilon_t^9\\\\\n",
    "      E_t y_{t+1} + (1-\\bar{g}) \\sigma^{-1} E_t \\pi_{t+1} - \\bar{g} E_t g_{t+1} \\\\\n",
    "      \\beta E_t \\pi_{t+1} \\\\\n",
    "      0\\\\\n",
    "      \\end{bmatrix}$\n"
   ]
  },
  {
   "cell_type": "code",
   "execution_count": 106,
   "metadata": {},
   "outputs": [
    {
     "data": {
      "text/plain": [
       "array([[ 1.  ,  0.  ,  0.  ,  0.  ],\n",
       "       [-0.25,  1.  ,  0.  ,  0.75],\n",
       "       [ 0.1 , -1.  ,  1.  ,  0.  ],\n",
       "       [ 0.  , -0.1 , -1.5 ,  1.  ]])"
      ]
     },
     "execution_count": 106,
     "metadata": {},
     "output_type": "execute_result"
    }
   ],
   "source": [
    "# setup parameters in a dictionary\n",
    "params = {'sigma': 1, 'eta':2, 'kappa': 0.3, 'beta': 0.995, 'phi_pi':1.5, 'phi_y':0.1, 'rho_g':0.7, 'gbar':0.25}\n",
    "\n",
    "# define matrix A\n",
    "a31 = params['kappa']*params['sigma']*params['gbar']/(1-params['gbar'])\n",
    "a32 = -params['kappa']*(params['sigma']/(1-params['gbar']) + params['eta'])\n",
    "A = np.array([[1,0,0,0],\n",
    "                [-params['gbar'],1,0, (1-params['gbar'])*params['sigma']**(-1)],\n",
    "                [a31,a32,1,0],\n",
    "                [0,-params['phi_y'],-params['phi_pi'],1]])\n",
    "A"
   ]
  },
  {
   "cell_type": "markdown",
   "metadata": {},
   "source": [
    "# #2 Define function"
   ]
  },
  {
   "cell_type": "code",
   "execution_count": 107,
   "metadata": {},
   "outputs": [],
   "source": [
    "# define function \n",
    "def NKM(input, A = A, params=params):\n",
    "    # input: 8 elements\n",
    "    cg = input[0:4] # unpack first 4 elements und define them as cg\n",
    "    ce = input[4:8] # unpack next 4 elements und define them as ce\n",
    "\n",
    "    gt_1 = 0 # 0 as in steady state\n",
    "    eg, ey, epi, ei = cg * gt_1 + ce * 0 # unpack expectations based on equation 6, shock is zero in steady state\n",
    "\n",
    "    # define B for gt_1 = 1 and calculate the implied values\n",
    "    B1 = np.array([[params['rho_g']],\n",
    "                    [ey + (1-params['gbar'])*params['sigma']**(-1) * epi - params['gbar']*eg],\n",
    "                    [params['beta']* epi],\n",
    "                    [0]])\n",
    "    implied1 = np.linalg.inv(A) @ B1\n",
    "\n",
    "    # define B for epsilon t_1 = 1 and calculate the implied values\n",
    "    B2 = B1.copy() # same as before\n",
    "    B2[0] = 1 # change first element\n",
    "    implied2 = np.linalg.inv(A) @ B2\n",
    "    \n",
    "    # but implied values for cg and ce in one vector\n",
    "    implied = np.append(implied1,implied2)\n",
    "\n",
    "    # calculate the difference between the input values and the implied values by the model\n",
    "    dif = input - implied\n",
    "    # function returns this difference\n",
    "    return dif"
   ]
  },
  {
   "cell_type": "markdown",
   "metadata": {},
   "source": [
    "# #3 MSV solution"
   ]
  },
  {
   "cell_type": "code",
   "execution_count": 108,
   "metadata": {},
   "outputs": [
    {
     "data": {
      "text/plain": [
       "array([0.7       , 0.11534091, 0.04534091, 0.07954545, 1.        ,\n",
       "       0.16477273, 0.06477273, 0.11363636])"
      ]
     },
     "execution_count": 108,
     "metadata": {},
     "output_type": "execute_result"
    }
   ],
   "source": [
    "# make a random guess about the 8 values of the model\n",
    "guess = np.random.randn(8)\n",
    "\n",
    "# use fsolve to calculate the minimum state variable solution \n",
    "msv = fsolve(NKM, guess) #  first input is the function, second is the guess where fsolve should start\n",
    "msv # first 4 elements are the values for Cg, the next 4 element correspond to Ce"
   ]
  },
  {
   "cell_type": "markdown",
   "metadata": {},
   "source": [
    "# #4 Calculate impulse responses"
   ]
  },
  {
   "cell_type": "code",
   "execution_count": 109,
   "metadata": {},
   "outputs": [],
   "source": [
    "N = 30 # number of periods\n",
    "epsg = 0.01 # shock to g\n",
    "\n",
    "# unpack and reshape msv solution into vectors, Cg and Ce \n",
    "cg = msv[0:4].reshape(4,1)\n",
    "ce = msv[4:8].reshape(4,1)\n",
    " \n",
    "# start a list in which to save zt\n",
    "# first entry is Ce times error\n",
    "z = [ce * epsg ]\n",
    "\n",
    "# loop through N periods\n",
    "for i in range(N):\n",
    "    zt = cg * z[-1][0] # new zt is Cg * gt-1\n",
    "    # z[-1] is last element from list (period t-1), [0] picks the first element from array -> gt-1\n",
    "    z.append(zt) # append new zt to list\n",
    "\n",
    "# unpack elements of zt using list comprehensions\n",
    "gov_spending = [x[0][0] for x in z]\n",
    "output = [x[1][0] for x in z]\n",
    "inflation = [x[2][0] for x in z]\n",
    "interest = [x[3][0] for x in z]"
   ]
  },
  {
   "cell_type": "markdown",
   "metadata": {},
   "source": [
    "# #5 Plot impulse responses"
   ]
  },
  {
   "cell_type": "code",
   "execution_count": 110,
   "metadata": {},
   "outputs": [
    {
     "data": {
      "image/png": "[encoded data removed]",
      "text/plain": [
       "<Figure size 432x288 with 4 Axes>"
      ]
     },
     "metadata": {
      "needs_background": "light"
     },
     "output_type": "display_data"
    }
   ],
   "source": [
    "fig, ax = plt.subplots(2,2) # define figure and axis, including the number of rows and columns for the subfigures\n",
    "cmap = cm.get_cmap('gnuplot') # choose a colormap\n",
    "# for each axis, define the variable, all in dashed lines, and choose a color from the colormap\n",
    "ax[0,0].plot(gov_spending, linestyle = 'dashed', color=cmap(0))\n",
    "ax[0,0].set_title('Government spending') # set title for each subfigure\n",
    "ax[1,0].plot(output, linestyle = 'dashed', color=cmap(0.25) )\n",
    "ax[1,0].set_title('Output')\n",
    "ax[0,1].plot(inflation, linestyle = 'dashed', color=cmap(0.5) )\n",
    "ax[0,1].set_title('Inflation')\n",
    "ax[1,1].plot(interest, linestyle = 'dashed', color=cmap(0.75) )\n",
    "ax[1,1].set_title('Interest rate')\n",
    "fig.suptitle(r'Impulse Responses to a shock in $g_t$ of size $\\epsilon_0^g = 0.01$', fontsize=16) # title of figure\n",
    "fig.tight_layout() # makes sure the labels from the figures do not overlap\n",
    "plt.show() # show the figure"
   ]
  },
  {
   "cell_type": "markdown",
   "metadata": {},
   "source": [
    "# #6 Interpretation\n",
    "\n",
    "economic intuition for response of each variable"
   ]
  },
  {
   "cell_type": "markdown",
   "metadata": {},
   "source": [
    "# #7 Linear Time Iteration: Function"
   ]
  },
  {
   "cell_type": "code",
   "execution_count": 111,
   "metadata": {},
   "outputs": [],
   "source": [
    "# define a function using the matrices A, M and D as input as well es a first guees an F\n",
    "def lin_time_iter(A, M, D, Fguess):\n",
    "    # make a while loop as before until the difference between F and Fnew is small enough\n",
    "    F = Fguess\n",
    "    Fnew = np.linalg.inv(A - M @ F) @ D\n",
    "    while np.max(abs(F - Fnew)) > 1e-6:\n",
    "        F = Fnew\n",
    "        Fnew = np.linalg.inv(A - M @ F) @ D\n",
    "    # save the latest F when the loop stops\n",
    "    F_final = Fnew\n",
    "    # Calculate Q\n",
    "    Q = np.linalg.inv(A - M @ F_final)\n",
    "    # function return the solution for F and Q\n",
    "    return F_final, Q"
   ]
  },
  {
   "cell_type": "markdown",
   "metadata": {},
   "source": [
    "# #8 Define Matrices A, M and D\n",
    "\n",
    "$ A z_t = M E z_{t+1} + D z_{t-1} + u_t$"
   ]
  },
  {
   "cell_type": "code",
   "execution_count": 112,
   "metadata": {},
   "outputs": [],
   "source": [
    "A = A # same as before\n",
    "\n",
    "M = np.array([np.zeros(4),\n",
    "            [-params['gbar'],1, (1-params['gbar'])*params['sigma']**(-1),0],\n",
    "            [0,0,params['beta'],0],\n",
    "            np.zeros(4)])\n",
    "\n",
    "D = np.zeros((4,4))\n",
    "D[0,0] = params['rho_g']\n",
    "\n",
    "# guess a 4x4 matrix\n",
    "F_init = np.random.randn(4,4)\n",
    "\n",
    "# call the function and save results F and Q\n",
    "F,Q = lin_time_iter(A=A, M=M, D=D, Fguess=F_init)"
   ]
  },
  {
   "cell_type": "code",
   "execution_count": 113,
   "metadata": {},
   "outputs": [],
   "source": [
    "# to be deleted\n",
    "z = [Q * epsg]\n",
    "e = [epsg]\n",
    "\n",
    "for i in range(N):\n",
    "    et = params['rho_g'] * e[-1]\n",
    "    zt = F @ np.array([[et],[0],[0],[0]], dtype=float)\n",
    "    e.append(et)\n",
    "    z.append(zt)\n",
    "\n",
    "error = [x[0][0] for x in z]\n",
    "output = [x[1][0] for x in z]\n",
    "inflation = [x[2][0] for x in z]\n",
    "interest = [x[3][0] for x in z]"
   ]
  },
  {
   "cell_type": "code",
   "execution_count": 114,
   "metadata": {},
   "outputs": [
    {
     "data": {
      "image/png": "[encoded data removed]",
      "text/plain": [
       "<Figure size 432x288 with 4 Axes>"
      ]
     },
     "metadata": {
      "needs_background": "light"
     },
     "output_type": "display_data"
    }
   ],
   "source": [
    "# to be deleted\n",
    "gov_spending = error\n",
    "fig, ax = plt.subplots(2,2)\n",
    "\n",
    "ax[0,0].plot(gov_spending, linestyle = 'dashed')\n",
    "ax[0,0].set_title('Government spending')\n",
    "ax[1,0].plot(output, linestyle = 'dashed' )\n",
    "ax[1,0].set_title('Output')\n",
    "ax[0,1].plot(inflation, linestyle = 'dashed' )\n",
    "ax[0,1].set_title('Inflation')\n",
    "ax[1,1].plot(interest, linestyle = 'dashed' )\n",
    "ax[1,1].set_title('Interest rate')\n",
    "fig.tight_layout()\n",
    "plt.show()"
   ]
  },
  {
   "cell_type": "code",
   "execution_count": 115,
   "metadata": {},
   "outputs": [
    {
     "name": "stdout",
     "output_type": "stream",
     "text": [
      "[[0.7        0.         0.         0.        ]\n",
      " [0.08116078 0.         0.         0.        ]\n",
      " [0.03677505 0.         0.         0.        ]\n",
      " [0.06327865 0.         0.         0.        ]]\n",
      "[[ 1.          0.          0.          0.        ]\n",
      " [ 0.11594409  0.45454545 -0.51136364 -0.34090909]\n",
      " [ 0.05253526  0.45454545  0.48863636 -0.34090909]\n",
      " [ 0.0903973   0.72727273  0.68181818  0.45454545]]\n"
     ]
    }
   ],
   "source": [
    "print(F)\n",
    "print(Q)"
   ]
  },
  {
   "cell_type": "code",
   "execution_count": 116,
   "metadata": {},
   "outputs": [
    {
     "name": "stdout",
     "output_type": "stream",
     "text": [
      "[[0.7       ]\n",
      " [0.11534091]\n",
      " [0.04534091]\n",
      " [0.07954545]]\n",
      "[[1.        ]\n",
      " [0.16477273]\n",
      " [0.06477273]\n",
      " [0.11363636]]\n"
     ]
    }
   ],
   "source": [
    "print(cg)\n",
    "print(ce)"
   ]
  },
  {
   "cell_type": "code",
   "execution_count": 117,
   "metadata": {},
   "outputs": [
    {
     "name": "stdout",
     "output_type": "stream",
     "text": [
      "[0.7        0.08116078 0.03677505 0.06327865]\n",
      "[1.         0.11594409 0.05253526 0.0903973 ]\n"
     ]
    }
   ],
   "source": [
    "print(F[:,0]) # should be equal to cg\n",
    "print(Q[:,0]) # should be equal to ce"
   ]
  },
  {
   "cell_type": "markdown",
   "metadata": {},
   "source": [
    "# #9 Interpretation"
   ]
  },
  {
   "cell_type": "markdown",
   "metadata": {},
   "source": [
    "first columns of F,Q have same ratios\n",
    "\n",
    "first column of F: how zt reacts to gt-1"
   ]
  }
 ],
 "metadata": {
  "interpreter": {
   "hash": "98f8afcc7b498ff748bcf3669bc6fa2980d8228748497c4de9780cb8988f727b"
  },
  "kernelspec": {
   "display_name": "Python 3.8.12 64-bit ('compMacro': conda)",
   "language": "python",
   "name": "python3"
  },
  "language_info": {
   "codemirror_mode": {
    "name": "ipython",
    "version": 3
   },
   "file_extension": ".py",
   "mimetype": "text/x-python",
   "name": "python",
   "nbconvert_exporter": "python",
   "pygments_lexer": "ipython3",
   "version": "3.8.12"
  },
  "orig_nbformat": 4
 },
 "nbformat": 4,
 "nbformat_minor": 2
}
