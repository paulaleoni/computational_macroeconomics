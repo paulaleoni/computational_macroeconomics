{
 "cells": [
  {
   "cell_type": "markdown",
   "metadata": {},
   "source": [
    "## Computational Macroeconomics Assignment 5\n",
    "#### Paula Beck - 29.01.2022"
   ]
  },
  {
   "cell_type": "code",
   "execution_count": 42,
   "metadata": {},
   "outputs": [],
   "source": [
    "# some preparation\n",
    "\n",
    "# import packages\n",
    "from pathlib import Path\n",
    "import numpy as np\n",
    "import pandas as pd\n",
    "from statsmodels.formula.api import ols\n",
    "\n",
    "\n",
    "# set path\n",
    "wd = Path.cwd()"
   ]
  },
  {
   "cell_type": "markdown",
   "metadata": {},
   "source": [
    "### Step 1: download data and save\n",
    "downloaded on 25.01.2022"
   ]
  },
  {
   "cell_type": "markdown",
   "metadata": {},
   "source": [
    "### Step 2: load data in python"
   ]
  },
  {
   "cell_type": "code",
   "execution_count": 43,
   "metadata": {},
   "outputs": [
    {
     "data": {
      "text/html": [
       "<div>\n",
       "<style scoped>\n",
       "    .dataframe tbody tr th:only-of-type {\n",
       "        vertical-align: middle;\n",
       "    }\n",
       "\n",
       "    .dataframe tbody tr th {\n",
       "        vertical-align: top;\n",
       "    }\n",
       "\n",
       "    .dataframe thead th {\n",
       "        text-align: right;\n",
       "    }\n",
       "</style>\n",
       "<table border=\"1\" class=\"dataframe\">\n",
       "  <thead>\n",
       "    <tr style=\"text-align: right;\">\n",
       "      <th></th>\n",
       "      <th>date</th>\n",
       "      <th>Median one-year ahead expected inflation rate</th>\n",
       "      <th>Median three-year ahead expected inflation rate</th>\n",
       "    </tr>\n",
       "  </thead>\n",
       "  <tbody>\n",
       "    <tr>\n",
       "      <th>0</th>\n",
       "      <td>201306</td>\n",
       "      <td>3.090884</td>\n",
       "      <td>3.416846</td>\n",
       "    </tr>\n",
       "    <tr>\n",
       "      <th>1</th>\n",
       "      <td>201307</td>\n",
       "      <td>3.162522</td>\n",
       "      <td>3.310545</td>\n",
       "    </tr>\n",
       "    <tr>\n",
       "      <th>2</th>\n",
       "      <td>201308</td>\n",
       "      <td>3.395071</td>\n",
       "      <td>3.799491</td>\n",
       "    </tr>\n",
       "    <tr>\n",
       "      <th>3</th>\n",
       "      <td>201309</td>\n",
       "      <td>3.367290</td>\n",
       "      <td>3.546918</td>\n",
       "    </tr>\n",
       "    <tr>\n",
       "      <th>4</th>\n",
       "      <td>201310</td>\n",
       "      <td>3.174733</td>\n",
       "      <td>3.196597</td>\n",
       "    </tr>\n",
       "  </tbody>\n",
       "</table>\n",
       "</div>"
      ],
      "text/plain": [
       "     date  Median one-year ahead expected inflation rate  \\\n",
       "0  201306                                       3.090884   \n",
       "1  201307                                       3.162522   \n",
       "2  201308                                       3.395071   \n",
       "3  201309                                       3.367290   \n",
       "4  201310                                       3.174733   \n",
       "\n",
       "   Median three-year ahead expected inflation rate  \n",
       "0                                         3.416846  \n",
       "1                                         3.310545  \n",
       "2                                         3.799491  \n",
       "3                                         3.546918  \n",
       "4                                         3.196597  "
      ]
     },
     "execution_count": 43,
     "metadata": {},
     "output_type": "execute_result"
    }
   ],
   "source": [
    "# load consumer expectation data\n",
    "\n",
    "# instead of changing the excel file manually, I manipulate the specific data directly in python by loading the explicite sheet and skipping the first three rows. Also, I only load the first three columns as those are the one we need.\n",
    "exp = pd.read_excel(wd/'data'/'FRBNY-SCE-Data.xlsx', sheet_name = 'Inflation expectations', skiprows=3, usecols=[0,1,2])\n",
    "\n",
    "exp.rename(columns={exp.columns[0]:'date'}, inplace=True)\n",
    "\n",
    "exp.head()"
   ]
  },
  {
   "cell_type": "code",
   "execution_count": 44,
   "metadata": {},
   "outputs": [
    {
     "data": {
      "text/html": [
       "<div>\n",
       "<style scoped>\n",
       "    .dataframe tbody tr th:only-of-type {\n",
       "        vertical-align: middle;\n",
       "    }\n",
       "\n",
       "    .dataframe tbody tr th {\n",
       "        vertical-align: top;\n",
       "    }\n",
       "\n",
       "    .dataframe thead th {\n",
       "        text-align: right;\n",
       "    }\n",
       "</style>\n",
       "<table border=\"1\" class=\"dataframe\">\n",
       "  <thead>\n",
       "    <tr style=\"text-align: right;\">\n",
       "      <th></th>\n",
       "      <th>date</th>\n",
       "      <th>inflation</th>\n",
       "    </tr>\n",
       "  </thead>\n",
       "  <tbody>\n",
       "    <tr>\n",
       "      <th>0</th>\n",
       "      <td>1960-01-01</td>\n",
       "      <td>1.034483</td>\n",
       "    </tr>\n",
       "    <tr>\n",
       "      <th>1</th>\n",
       "      <td>1960-02-01</td>\n",
       "      <td>1.730104</td>\n",
       "    </tr>\n",
       "    <tr>\n",
       "      <th>2</th>\n",
       "      <td>1960-03-01</td>\n",
       "      <td>1.730104</td>\n",
       "    </tr>\n",
       "    <tr>\n",
       "      <th>3</th>\n",
       "      <td>1960-04-01</td>\n",
       "      <td>1.724138</td>\n",
       "    </tr>\n",
       "    <tr>\n",
       "      <th>4</th>\n",
       "      <td>1960-05-01</td>\n",
       "      <td>1.724138</td>\n",
       "    </tr>\n",
       "  </tbody>\n",
       "</table>\n",
       "</div>"
      ],
      "text/plain": [
       "         date  inflation\n",
       "0  1960-01-01   1.034483\n",
       "1  1960-02-01   1.730104\n",
       "2  1960-03-01   1.730104\n",
       "3  1960-04-01   1.724138\n",
       "4  1960-05-01   1.724138"
      ]
     },
     "execution_count": 44,
     "metadata": {},
     "output_type": "execute_result"
    }
   ],
   "source": [
    "# load inflation data\n",
    "\n",
    "inf = pd.read_csv(wd/'data'/'CPALTT01USM659N.csv', sep = ',', decimal ='.', names=['date', 'inflation'], header=0)\n",
    "\n",
    "inf.head()"
   ]
  },
  {
   "cell_type": "markdown",
   "metadata": {},
   "source": [
    "### Step 3: convert date columns to datetime-type"
   ]
  },
  {
   "cell_type": "code",
   "execution_count": 45,
   "metadata": {},
   "outputs": [
    {
     "name": "stdout",
     "output_type": "stream",
     "text": [
      "---data types of inflation data------------\n",
      "date          object\n",
      "inflation    float64\n",
      "dtype: object\n",
      "---data types of expectation data----------\n",
      "date                                                 int64\n",
      "Median one-year ahead expected inflation rate      float64\n",
      "Median three-year ahead expected inflation rate    float64\n",
      "dtype: object\n"
     ]
    }
   ],
   "source": [
    "# first look what data types they have\n",
    "print('---data types of inflation data------------')\n",
    "print(inf.dtypes)\n",
    "print('---data types of expectation data----------')\n",
    "print(exp.dtypes)"
   ]
  },
  {
   "cell_type": "code",
   "execution_count": 46,
   "metadata": {},
   "outputs": [],
   "source": [
    "# convert date column of inflation dataframe to datetime\n",
    "inf.date  = pd.to_datetime(inf.date)\n",
    "# set frequency to monthly\n",
    "inf.date = pd.PeriodIndex(inf.date, freq='m')\n",
    "\n",
    "# convert the date column of the expectation dataframe to a string and add '01', then convert to datetime\n",
    "exp.date = exp.date.astype('str') + '01'\n",
    "exp.date = pd.to_datetime(exp.date, format = '%Y%m%d')\n",
    "# set frequency to monthly\n",
    "exp.date = pd.PeriodIndex(exp.date, freq='m')\n"
   ]
  },
  {
   "cell_type": "code",
   "execution_count": 47,
   "metadata": {},
   "outputs": [
    {
     "name": "stdout",
     "output_type": "stream",
     "text": [
      "---data types of inflation data------------\n",
      "date         period[M]\n",
      "inflation      float64\n",
      "dtype: object\n",
      "---data types of expectation data----------\n",
      "date                                               period[M]\n",
      "Median one-year ahead expected inflation rate        float64\n",
      "Median three-year ahead expected inflation rate      float64\n",
      "dtype: object\n"
     ]
    }
   ],
   "source": [
    "# check data types again\n",
    "print('---data types of inflation data------------')\n",
    "print(inf.dtypes)\n",
    "print('---data types of expectation data----------')\n",
    "print(exp.dtypes)"
   ]
  },
  {
   "cell_type": "code",
   "execution_count": 48,
   "metadata": {},
   "outputs": [],
   "source": [
    "# set date as index\n",
    "inf = inf.set_index('date')\n",
    "exp = exp.set_index('date')"
   ]
  },
  {
   "cell_type": "markdown",
   "metadata": {},
   "source": [
    "### Step 4: rename expectation columns"
   ]
  },
  {
   "cell_type": "code",
   "execution_count": 49,
   "metadata": {},
   "outputs": [],
   "source": [
    "exp.rename(columns={exp.columns[0]:'med1y',exp.columns[1]:'med3y'}, inplace=True)"
   ]
  },
  {
   "cell_type": "markdown",
   "metadata": {},
   "source": [
    "### Step 5: merge dataframes"
   ]
  },
  {
   "cell_type": "code",
   "execution_count": 50,
   "metadata": {},
   "outputs": [
    {
     "data": {
      "text/html": [
       "<div>\n",
       "<style scoped>\n",
       "    .dataframe tbody tr th:only-of-type {\n",
       "        vertical-align: middle;\n",
       "    }\n",
       "\n",
       "    .dataframe tbody tr th {\n",
       "        vertical-align: top;\n",
       "    }\n",
       "\n",
       "    .dataframe thead th {\n",
       "        text-align: right;\n",
       "    }\n",
       "</style>\n",
       "<table border=\"1\" class=\"dataframe\">\n",
       "  <thead>\n",
       "    <tr style=\"text-align: right;\">\n",
       "      <th></th>\n",
       "      <th>inflation</th>\n",
       "      <th>med1y</th>\n",
       "      <th>med3y</th>\n",
       "    </tr>\n",
       "    <tr>\n",
       "      <th>date</th>\n",
       "      <th></th>\n",
       "      <th></th>\n",
       "      <th></th>\n",
       "    </tr>\n",
       "  </thead>\n",
       "  <tbody>\n",
       "    <tr>\n",
       "      <th>2013-06</th>\n",
       "      <td>1.754417</td>\n",
       "      <td>3.090884</td>\n",
       "      <td>3.416846</td>\n",
       "    </tr>\n",
       "    <tr>\n",
       "      <th>2013-07</th>\n",
       "      <td>1.960682</td>\n",
       "      <td>3.162522</td>\n",
       "      <td>3.310545</td>\n",
       "    </tr>\n",
       "    <tr>\n",
       "      <th>2013-08</th>\n",
       "      <td>1.518368</td>\n",
       "      <td>3.395071</td>\n",
       "      <td>3.799491</td>\n",
       "    </tr>\n",
       "    <tr>\n",
       "      <th>2013-09</th>\n",
       "      <td>1.184925</td>\n",
       "      <td>3.367290</td>\n",
       "      <td>3.546918</td>\n",
       "    </tr>\n",
       "    <tr>\n",
       "      <th>2013-10</th>\n",
       "      <td>0.963613</td>\n",
       "      <td>3.174733</td>\n",
       "      <td>3.196597</td>\n",
       "    </tr>\n",
       "  </tbody>\n",
       "</table>\n",
       "</div>"
      ],
      "text/plain": [
       "         inflation     med1y     med3y\n",
       "date                                  \n",
       "2013-06   1.754417  3.090884  3.416846\n",
       "2013-07   1.960682  3.162522  3.310545\n",
       "2013-08   1.518368  3.395071  3.799491\n",
       "2013-09   1.184925  3.367290  3.546918\n",
       "2013-10   0.963613  3.174733  3.196597"
      ]
     },
     "execution_count": 50,
     "metadata": {},
     "output_type": "execute_result"
    }
   ],
   "source": [
    "# merge expectation data to inflation dataframe based on the index\n",
    "# inner merge such that only those rows remain that exist for both data sources\n",
    "df = inf.merge(exp, on='date', how='inner')\n",
    "df.head()"
   ]
  },
  {
   "cell_type": "markdown",
   "metadata": {},
   "source": [
    "### Step 6: calculate forecast errors and forecast revision"
   ]
  },
  {
   "cell_type": "code",
   "execution_count": 51,
   "metadata": {},
   "outputs": [],
   "source": [
    "# set all to point t\n",
    "\n",
    "df['ferror'] = df.inflation.shift(-12) - df.med1y \n",
    "df['frevision'] = df.med1y - df.med3y.shift(24) "
   ]
  },
  {
   "cell_type": "markdown",
   "metadata": {},
   "source": [
    "### Step 7: drop all columns except from forecast errors and forecast revision"
   ]
  },
  {
   "cell_type": "code",
   "execution_count": 52,
   "metadata": {},
   "outputs": [
    {
     "data": {
      "text/html": [
       "<div>\n",
       "<style scoped>\n",
       "    .dataframe tbody tr th:only-of-type {\n",
       "        vertical-align: middle;\n",
       "    }\n",
       "\n",
       "    .dataframe tbody tr th {\n",
       "        vertical-align: top;\n",
       "    }\n",
       "\n",
       "    .dataframe thead th {\n",
       "        text-align: right;\n",
       "    }\n",
       "</style>\n",
       "<table border=\"1\" class=\"dataframe\">\n",
       "  <thead>\n",
       "    <tr style=\"text-align: right;\">\n",
       "      <th></th>\n",
       "      <th>ferror</th>\n",
       "      <th>frevision</th>\n",
       "    </tr>\n",
       "    <tr>\n",
       "      <th>date</th>\n",
       "      <th></th>\n",
       "      <th></th>\n",
       "    </tr>\n",
       "  </thead>\n",
       "  <tbody>\n",
       "    <tr>\n",
       "      <th>2013-06</th>\n",
       "      <td>-1.018543</td>\n",
       "      <td>NaN</td>\n",
       "    </tr>\n",
       "    <tr>\n",
       "      <th>2013-07</th>\n",
       "      <td>-1.170193</td>\n",
       "      <td>NaN</td>\n",
       "    </tr>\n",
       "    <tr>\n",
       "      <th>2013-08</th>\n",
       "      <td>-1.695460</td>\n",
       "      <td>NaN</td>\n",
       "    </tr>\n",
       "    <tr>\n",
       "      <th>2013-09</th>\n",
       "      <td>-1.709371</td>\n",
       "      <td>NaN</td>\n",
       "    </tr>\n",
       "    <tr>\n",
       "      <th>2013-10</th>\n",
       "      <td>-1.510392</td>\n",
       "      <td>NaN</td>\n",
       "    </tr>\n",
       "  </tbody>\n",
       "</table>\n",
       "</div>"
      ],
      "text/plain": [
       "           ferror  frevision\n",
       "date                        \n",
       "2013-06 -1.018543        NaN\n",
       "2013-07 -1.170193        NaN\n",
       "2013-08 -1.695460        NaN\n",
       "2013-09 -1.709371        NaN\n",
       "2013-10 -1.510392        NaN"
      ]
     },
     "execution_count": 52,
     "metadata": {},
     "output_type": "execute_result"
    }
   ],
   "source": [
    "# keep only those two columns\n",
    "df = df[['ferror', 'frevision']]\n",
    "df.head()"
   ]
  },
  {
   "cell_type": "markdown",
   "metadata": {},
   "source": [
    "### Step 8: remove NAN values"
   ]
  },
  {
   "cell_type": "code",
   "execution_count": 53,
   "metadata": {},
   "outputs": [
    {
     "name": "stdout",
     "output_type": "stream",
     "text": [
      "(67, 2)\n"
     ]
    }
   ],
   "source": [
    "df = df.dropna()\n",
    "print(df.shape)"
   ]
  },
  {
   "cell_type": "markdown",
   "metadata": {},
   "source": [
    "### Step 9: estimate equation (1)\n",
    "\n",
    "- equation: ferror = constant + frevision + error\n",
    "- set cov_type = 'HAC'\n",
    "- set cov_kwds = {'maxlags':3}"
   ]
  },
  {
   "cell_type": "code",
   "execution_count": 54,
   "metadata": {},
   "outputs": [
    {
     "data": {
      "text/html": [
       "<table class=\"simpletable\">\n",
       "<caption>OLS Regression Results</caption>\n",
       "<tr>\n",
       "  <th>Dep. Variable:</th>         <td>ferror</td>      <th>  R-squared:         </th> <td>   0.003</td>\n",
       "</tr>\n",
       "<tr>\n",
       "  <th>Model:</th>                   <td>OLS</td>       <th>  Adj. R-squared:    </th> <td>  -0.013</td>\n",
       "</tr>\n",
       "<tr>\n",
       "  <th>Method:</th>             <td>Least Squares</td>  <th>  F-statistic:       </th> <td>  0.1166</td>\n",
       "</tr>\n",
       "<tr>\n",
       "  <th>Date:</th>             <td>Wed, 26 Jan 2022</td> <th>  Prob (F-statistic):</th>  <td> 0.734</td> \n",
       "</tr>\n",
       "<tr>\n",
       "  <th>Time:</th>                 <td>17:05:25</td>     <th>  Log-Likelihood:    </th> <td> -117.13</td>\n",
       "</tr>\n",
       "<tr>\n",
       "  <th>No. Observations:</th>      <td>    67</td>      <th>  AIC:               </th> <td>   238.3</td>\n",
       "</tr>\n",
       "<tr>\n",
       "  <th>Df Residuals:</th>          <td>    65</td>      <th>  BIC:               </th> <td>   242.7</td>\n",
       "</tr>\n",
       "<tr>\n",
       "  <th>Df Model:</th>              <td>     1</td>      <th>                     </th>     <td> </td>   \n",
       "</tr>\n",
       "<tr>\n",
       "  <th>Covariance Type:</th>         <td>HAC</td>       <th>                     </th>     <td> </td>   \n",
       "</tr>\n",
       "</table>\n",
       "<table class=\"simpletable\">\n",
       "<tr>\n",
       "      <td></td>         <th>coef</th>     <th>std err</th>      <th>z</th>      <th>P>|z|</th>  <th>[0.025</th>    <th>0.975]</th>  \n",
       "</tr>\n",
       "<tr>\n",
       "  <th>Intercept</th> <td>   -0.3265</td> <td>    0.403</td> <td>   -0.810</td> <td> 0.418</td> <td>   -1.117</td> <td>    0.464</td>\n",
       "</tr>\n",
       "<tr>\n",
       "  <th>frevision</th> <td>    0.2154</td> <td>    0.631</td> <td>    0.341</td> <td> 0.733</td> <td>   -1.021</td> <td>    1.452</td>\n",
       "</tr>\n",
       "</table>\n",
       "<table class=\"simpletable\">\n",
       "<tr>\n",
       "  <th>Omnibus:</th>       <td>24.819</td> <th>  Durbin-Watson:     </th> <td>   0.088</td>\n",
       "</tr>\n",
       "<tr>\n",
       "  <th>Prob(Omnibus):</th> <td> 0.000</td> <th>  Jarque-Bera (JB):  </th> <td>  35.693</td>\n",
       "</tr>\n",
       "<tr>\n",
       "  <th>Skew:</th>          <td> 1.516</td> <th>  Prob(JB):          </th> <td>1.78e-08</td>\n",
       "</tr>\n",
       "<tr>\n",
       "  <th>Kurtosis:</th>      <td> 4.895</td> <th>  Cond. No.          </th> <td>    3.16</td>\n",
       "</tr>\n",
       "</table><br/><br/>Notes:<br/>[1] Standard Errors are heteroscedasticity and autocorrelation robust (HAC) using 3 lags and without small sample correction"
      ],
      "text/plain": [
       "<class 'statsmodels.iolib.summary.Summary'>\n",
       "\"\"\"\n",
       "                            OLS Regression Results                            \n",
       "==============================================================================\n",
       "Dep. Variable:                 ferror   R-squared:                       0.003\n",
       "Model:                            OLS   Adj. R-squared:                 -0.013\n",
       "Method:                 Least Squares   F-statistic:                    0.1166\n",
       "Date:                Wed, 26 Jan 2022   Prob (F-statistic):              0.734\n",
       "Time:                        17:05:25   Log-Likelihood:                -117.13\n",
       "No. Observations:                  67   AIC:                             238.3\n",
       "Df Residuals:                      65   BIC:                             242.7\n",
       "Df Model:                           1                                         \n",
       "Covariance Type:                  HAC                                         \n",
       "==============================================================================\n",
       "                 coef    std err          z      P>|z|      [0.025      0.975]\n",
       "------------------------------------------------------------------------------\n",
       "Intercept     -0.3265      0.403     -0.810      0.418      -1.117       0.464\n",
       "frevision      0.2154      0.631      0.341      0.733      -1.021       1.452\n",
       "==============================================================================\n",
       "Omnibus:                       24.819   Durbin-Watson:                   0.088\n",
       "Prob(Omnibus):                  0.000   Jarque-Bera (JB):               35.693\n",
       "Skew:                           1.516   Prob(JB):                     1.78e-08\n",
       "Kurtosis:                       4.895   Cond. No.                         3.16\n",
       "==============================================================================\n",
       "\n",
       "Notes:\n",
       "[1] Standard Errors are heteroscedasticity and autocorrelation robust (HAC) using 3 lags and without small sample correction\n",
       "\"\"\""
      ]
     },
     "execution_count": 54,
     "metadata": {},
     "output_type": "execute_result"
    }
   ],
   "source": [
    "model = ols(formula='ferror ~ frevision', data=df)\n",
    "fit = model.fit(cov_type = 'HAC', cov_kwds = {'maxlags':3})\n",
    "fit.summary()"
   ]
  },
  {
   "cell_type": "markdown",
   "metadata": {},
   "source": [
    "### Step 10: Interpretation\n",
    "\n",
    "$\\beta$ can be interpreted as the relation between the forecast error and the forecast revision. Under rational expectations, the coefficient should be not significantly different from zero, i.e. the updating process of the forecast should not affect the forecast error. We find that this in indeed the case. Coibion and Gorodnychenko (2015), henceforth CG, however, find a significant correlation between the two, such that the forecast error can be (partly) explained by the forecast revision. A possible explanation for the difference is that we have a different dataset and a small sample size (67 observations). Also, CG use a survey of professional forecasters while our dataset consists of households inflation expectations."
   ]
  }
 ],
 "metadata": {
  "interpreter": {
   "hash": "98f8afcc7b498ff748bcf3669bc6fa2980d8228748497c4de9780cb8988f727b"
  },
  "kernelspec": {
   "display_name": "Python 3.8.12 64-bit ('compMacro': conda)",
   "language": "python",
   "name": "python3"
  },
  "language_info": {
   "codemirror_mode": {
    "name": "ipython",
    "version": 3
   },
   "file_extension": ".py",
   "mimetype": "text/x-python",
   "name": "python",
   "nbconvert_exporter": "python",
   "pygments_lexer": "ipython3",
   "version": "3.8.12"
  },
  "orig_nbformat": 4
 },
 "nbformat": 4,
 "nbformat_minor": 2
}
