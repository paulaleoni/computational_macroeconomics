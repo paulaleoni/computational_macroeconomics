{
 "cells": [
  {
   "cell_type": "markdown",
   "metadata": {},
   "source": [
    "## Computational Macroeconomics Assignment 5\n",
    "Paula Beck\n",
    "\n",
    "handed in: 29.01.2022"
   ]
  },
  {
   "cell_type": "code",
   "execution_count": 428,
   "metadata": {},
   "outputs": [],
   "source": [
    "# some preparation\n",
    "\n",
    "# import packages\n",
    "from pathlib import Path\n",
    "import numpy as np\n",
    "import pandas as pd\n",
    "from statsmodels.formula.api import ols\n",
    "\n",
    "\n",
    "# set path\n",
    "wd = Path()"
   ]
  },
  {
   "cell_type": "markdown",
   "metadata": {},
   "source": [
    "### Step 1: download data and save\n",
    "downloaded on 17.01.2022"
   ]
  },
  {
   "cell_type": "markdown",
   "metadata": {},
   "source": [
    "### Step 2: load data"
   ]
  },
  {
   "cell_type": "code",
   "execution_count": 429,
   "metadata": {},
   "outputs": [
    {
     "name": "stdout",
     "output_type": "stream",
     "text": [
      "     date  Median one-year ahead expected inflation rate  \\\n",
      "0  201306                                       3.090884   \n",
      "1  201307                                       3.162522   \n",
      "2  201308                                       3.395071   \n",
      "3  201309                                       3.367290   \n",
      "4  201310                                       3.174733   \n",
      "\n",
      "   Median three-year ahead expected inflation rate  \n",
      "0                                         3.416846  \n",
      "1                                         3.310545  \n",
      "2                                         3.799491  \n",
      "3                                         3.546918  \n",
      "4                                         3.196597  \n"
     ]
    }
   ],
   "source": [
    "# load consumer expectation data\n",
    "\n",
    "# instead of changing the excel file manually, I load the specific data directly in python by loading the explicite sheet and skipping the first three rows. Also, I only load the first three columns as those are the one we need.\n",
    "exp = pd.read_excel(wd/'data'/'FRBNY-SCE-Data.xlsx', sheet_name = 'Inflation expectations', skiprows=3, usecols=[0,1,2])\n",
    "\n",
    "exp.rename(columns={exp.columns[0]:'date'}, inplace=True)\n",
    "\n",
    "print(exp.head())"
   ]
  },
  {
   "cell_type": "code",
   "execution_count": 430,
   "metadata": {},
   "outputs": [
    {
     "name": "stdout",
     "output_type": "stream",
     "text": [
      "         date  inflation\n",
      "0  1960-01-01   1.034483\n",
      "1  1960-02-01   1.730104\n",
      "2  1960-03-01   1.730104\n",
      "3  1960-04-01   1.724138\n",
      "4  1960-05-01   1.724138\n"
     ]
    }
   ],
   "source": [
    "# load inflation data\n",
    "\n",
    "inf = pd.read_csv(wd/'data'/'CPALTT01USM659N.csv', sep = ',', decimal ='.', names=['date', 'inflation'], header=0)\n",
    "\n",
    "print(inf.head())"
   ]
  },
  {
   "cell_type": "markdown",
   "metadata": {},
   "source": [
    "### Step 3: convert to datetime"
   ]
  },
  {
   "cell_type": "code",
   "execution_count": 431,
   "metadata": {},
   "outputs": [
    {
     "name": "stdout",
     "output_type": "stream",
     "text": [
      "---data types of inflation data------------\n",
      "date          object\n",
      "inflation    float64\n",
      "dtype: object\n",
      "---data types of expectation data----------\n",
      "date                                                 int64\n",
      "Median one-year ahead expected inflation rate      float64\n",
      "Median three-year ahead expected inflation rate    float64\n",
      "dtype: object\n"
     ]
    }
   ],
   "source": [
    "# first look what data types they have\n",
    "print('---data types of inflation data------------')\n",
    "print(inf.dtypes)\n",
    "print('---data types of expectation data----------')\n",
    "print(exp.dtypes)"
   ]
  },
  {
   "cell_type": "code",
   "execution_count": 432,
   "metadata": {},
   "outputs": [],
   "source": [
    "# convert date column of inflation dataframe to datetime\n",
    "inf.date  = pd.to_datetime(inf.date)\n",
    "# set frequency to monthly\n",
    "inf.date = pd.PeriodIndex(inf.date, freq='m')\n",
    "\n",
    "# convert the date column of the expectation dataframe to a string and add '01', then convert to datetime\n",
    "exp.date = exp.date.astype('str') + '01'\n",
    "exp.date = pd.to_datetime(exp.date, format = '%Y%m%d')\n",
    "# set frequency to monthly\n",
    "exp.date = pd.PeriodIndex(exp.date, freq='m')\n"
   ]
  },
  {
   "cell_type": "code",
   "execution_count": 433,
   "metadata": {},
   "outputs": [],
   "source": [
    "# set date as index\n",
    "inf = inf.set_index('date')\n",
    "exp = exp.set_index('date')"
   ]
  },
  {
   "cell_type": "markdown",
   "metadata": {},
   "source": [
    "### Step 4: rename columns"
   ]
  },
  {
   "cell_type": "code",
   "execution_count": 434,
   "metadata": {},
   "outputs": [],
   "source": [
    "exp.rename(columns={exp.columns[0]:'med1y',exp.columns[1]:'med3y'}, inplace=True)"
   ]
  },
  {
   "cell_type": "markdown",
   "metadata": {},
   "source": [
    "### Step 5: merge dataframes"
   ]
  },
  {
   "cell_type": "code",
   "execution_count": 435,
   "metadata": {},
   "outputs": [],
   "source": [
    "# merge expectation data to inflation dataframe based on the index\n",
    "# inner merge such that only those rows remain that are not NA for both data sources\n",
    "df = inf.merge(exp, on='date', how='inner')"
   ]
  },
  {
   "cell_type": "markdown",
   "metadata": {},
   "source": [
    "### Step 6: calculate forecast errors and forecast revision"
   ]
  },
  {
   "cell_type": "code",
   "execution_count": 436,
   "metadata": {},
   "outputs": [
    {
     "data": {
      "text/html": [
       "<div>\n",
       "<style scoped>\n",
       "    .dataframe tbody tr th:only-of-type {\n",
       "        vertical-align: middle;\n",
       "    }\n",
       "\n",
       "    .dataframe tbody tr th {\n",
       "        vertical-align: top;\n",
       "    }\n",
       "\n",
       "    .dataframe thead th {\n",
       "        text-align: right;\n",
       "    }\n",
       "</style>\n",
       "<table border=\"1\" class=\"dataframe\">\n",
       "  <thead>\n",
       "    <tr style=\"text-align: right;\">\n",
       "      <th></th>\n",
       "      <th>inflation</th>\n",
       "      <th>med1y</th>\n",
       "      <th>med3y</th>\n",
       "      <th>ferror</th>\n",
       "      <th>frevision</th>\n",
       "    </tr>\n",
       "    <tr>\n",
       "      <th>date</th>\n",
       "      <th></th>\n",
       "      <th></th>\n",
       "      <th></th>\n",
       "      <th></th>\n",
       "      <th></th>\n",
       "    </tr>\n",
       "  </thead>\n",
       "  <tbody>\n",
       "    <tr>\n",
       "      <th>2013-06</th>\n",
       "      <td>1.754417</td>\n",
       "      <td>3.090884</td>\n",
       "      <td>3.416846</td>\n",
       "      <td>-1.018543</td>\n",
       "      <td>NaN</td>\n",
       "    </tr>\n",
       "    <tr>\n",
       "      <th>2013-07</th>\n",
       "      <td>1.960682</td>\n",
       "      <td>3.162522</td>\n",
       "      <td>3.310545</td>\n",
       "      <td>-1.170193</td>\n",
       "      <td>NaN</td>\n",
       "    </tr>\n",
       "    <tr>\n",
       "      <th>2013-08</th>\n",
       "      <td>1.518368</td>\n",
       "      <td>3.395071</td>\n",
       "      <td>3.799491</td>\n",
       "      <td>-1.695460</td>\n",
       "      <td>NaN</td>\n",
       "    </tr>\n",
       "    <tr>\n",
       "      <th>2013-09</th>\n",
       "      <td>1.184925</td>\n",
       "      <td>3.367290</td>\n",
       "      <td>3.546918</td>\n",
       "      <td>-1.709371</td>\n",
       "      <td>NaN</td>\n",
       "    </tr>\n",
       "    <tr>\n",
       "      <th>2013-10</th>\n",
       "      <td>0.963613</td>\n",
       "      <td>3.174733</td>\n",
       "      <td>3.196597</td>\n",
       "      <td>-1.510392</td>\n",
       "      <td>NaN</td>\n",
       "    </tr>\n",
       "    <tr>\n",
       "      <th>...</th>\n",
       "      <td>...</td>\n",
       "      <td>...</td>\n",
       "      <td>...</td>\n",
       "      <td>...</td>\n",
       "      <td>...</td>\n",
       "    </tr>\n",
       "    <tr>\n",
       "      <th>2021-06</th>\n",
       "      <td>5.391451</td>\n",
       "      <td>4.801745</td>\n",
       "      <td>3.546918</td>\n",
       "      <td>NaN</td>\n",
       "      <td>2.139308</td>\n",
       "    </tr>\n",
       "    <tr>\n",
       "      <th>2021-07</th>\n",
       "      <td>5.365475</td>\n",
       "      <td>4.842451</td>\n",
       "      <td>3.711669</td>\n",
       "      <td>NaN</td>\n",
       "      <td>2.263085</td>\n",
       "    </tr>\n",
       "    <tr>\n",
       "      <th>2021-08</th>\n",
       "      <td>5.251272</td>\n",
       "      <td>5.179827</td>\n",
       "      <td>3.999662</td>\n",
       "      <td>NaN</td>\n",
       "      <td>2.678395</td>\n",
       "    </tr>\n",
       "    <tr>\n",
       "      <th>2021-09</th>\n",
       "      <td>5.390349</td>\n",
       "      <td>5.310169</td>\n",
       "      <td>4.193985</td>\n",
       "      <td>NaN</td>\n",
       "      <td>2.935375</td>\n",
       "    </tr>\n",
       "    <tr>\n",
       "      <th>2021-10</th>\n",
       "      <td>6.221869</td>\n",
       "      <td>5.653467</td>\n",
       "      <td>4.211177</td>\n",
       "      <td>NaN</td>\n",
       "      <td>3.274592</td>\n",
       "    </tr>\n",
       "  </tbody>\n",
       "</table>\n",
       "<p>101 rows × 5 columns</p>\n",
       "</div>"
      ],
      "text/plain": [
       "         inflation     med1y     med3y    ferror  frevision\n",
       "date                                                       \n",
       "2013-06   1.754417  3.090884  3.416846 -1.018543        NaN\n",
       "2013-07   1.960682  3.162522  3.310545 -1.170193        NaN\n",
       "2013-08   1.518368  3.395071  3.799491 -1.695460        NaN\n",
       "2013-09   1.184925  3.367290  3.546918 -1.709371        NaN\n",
       "2013-10   0.963613  3.174733  3.196597 -1.510392        NaN\n",
       "...            ...       ...       ...       ...        ...\n",
       "2021-06   5.391451  4.801745  3.546918       NaN   2.139308\n",
       "2021-07   5.365475  4.842451  3.711669       NaN   2.263085\n",
       "2021-08   5.251272  5.179827  3.999662       NaN   2.678395\n",
       "2021-09   5.390349  5.310169  4.193985       NaN   2.935375\n",
       "2021-10   6.221869  5.653467  4.211177       NaN   3.274592\n",
       "\n",
       "[101 rows x 5 columns]"
      ]
     },
     "execution_count": 436,
     "metadata": {},
     "output_type": "execute_result"
    }
   ],
   "source": [
    "####### check again !!!!!\n",
    "\n",
    "# set all to point t\n",
    "\n",
    "df['ferror'] = df.inflation.shift(-12) - df.med1y \n",
    "df['frevision'] = df.med1y - df.med3y.shift(24) \n",
    "df"
   ]
  },
  {
   "cell_type": "markdown",
   "metadata": {},
   "source": [
    "### Step 7: drop all columns except from forecast errors and forecast revision"
   ]
  },
  {
   "cell_type": "code",
   "execution_count": 437,
   "metadata": {},
   "outputs": [],
   "source": [
    "df = df[['ferror', 'frevision']]"
   ]
  },
  {
   "cell_type": "markdown",
   "metadata": {},
   "source": [
    "### Step 8: remove NAN values"
   ]
  },
  {
   "cell_type": "code",
   "execution_count": 438,
   "metadata": {},
   "outputs": [
    {
     "data": {
      "text/html": [
       "<div>\n",
       "<style scoped>\n",
       "    .dataframe tbody tr th:only-of-type {\n",
       "        vertical-align: middle;\n",
       "    }\n",
       "\n",
       "    .dataframe tbody tr th {\n",
       "        vertical-align: top;\n",
       "    }\n",
       "\n",
       "    .dataframe thead th {\n",
       "        text-align: right;\n",
       "    }\n",
       "</style>\n",
       "<table border=\"1\" class=\"dataframe\">\n",
       "  <thead>\n",
       "    <tr style=\"text-align: right;\">\n",
       "      <th></th>\n",
       "      <th>ferror</th>\n",
       "      <th>frevision</th>\n",
       "    </tr>\n",
       "    <tr>\n",
       "      <th>date</th>\n",
       "      <th></th>\n",
       "      <th></th>\n",
       "    </tr>\n",
       "  </thead>\n",
       "  <tbody>\n",
       "    <tr>\n",
       "      <th>2015-06</th>\n",
       "      <td>-2.002674</td>\n",
       "      <td>-0.416846</td>\n",
       "    </tr>\n",
       "    <tr>\n",
       "      <th>2015-07</th>\n",
       "      <td>-2.128218</td>\n",
       "      <td>-0.355189</td>\n",
       "    </tr>\n",
       "    <tr>\n",
       "      <th>2015-08</th>\n",
       "      <td>-1.730700</td>\n",
       "      <td>-1.005916</td>\n",
       "    </tr>\n",
       "    <tr>\n",
       "      <th>2015-09</th>\n",
       "      <td>-1.270875</td>\n",
       "      <td>-0.812259</td>\n",
       "    </tr>\n",
       "    <tr>\n",
       "      <th>2015-10</th>\n",
       "      <td>-1.187338</td>\n",
       "      <td>-0.373271</td>\n",
       "    </tr>\n",
       "  </tbody>\n",
       "</table>\n",
       "</div>"
      ],
      "text/plain": [
       "           ferror  frevision\n",
       "date                        \n",
       "2015-06 -2.002674  -0.416846\n",
       "2015-07 -2.128218  -0.355189\n",
       "2015-08 -1.730700  -1.005916\n",
       "2015-09 -1.270875  -0.812259\n",
       "2015-10 -1.187338  -0.373271"
      ]
     },
     "execution_count": 438,
     "metadata": {},
     "output_type": "execute_result"
    }
   ],
   "source": [
    "df = df.dropna()\n",
    "df.head()"
   ]
  },
  {
   "cell_type": "markdown",
   "metadata": {},
   "source": [
    "### Step 9: estimate equation (1)\n",
    "\n",
    "- equation: ferror = constant + frevision + error\n",
    "- set cov_type = 'HAC'\n",
    "- set cov_kwds = {'maxlags':3}"
   ]
  },
  {
   "cell_type": "code",
   "execution_count": 441,
   "metadata": {},
   "outputs": [
    {
     "data": {
      "text/html": [
       "<table class=\"simpletable\">\n",
       "<caption>OLS Regression Results</caption>\n",
       "<tr>\n",
       "  <th>Dep. Variable:</th>         <td>ferror</td>      <th>  R-squared:         </th> <td>   0.001</td>\n",
       "</tr>\n",
       "<tr>\n",
       "  <th>Model:</th>                   <td>OLS</td>       <th>  Adj. R-squared:    </th> <td>  -0.015</td>\n",
       "</tr>\n",
       "<tr>\n",
       "  <th>Method:</th>             <td>Least Squares</td>  <th>  F-statistic:       </th> <td> 0.04515</td>\n",
       "</tr>\n",
       "<tr>\n",
       "  <th>Date:</th>             <td>Mon, 17 Jan 2022</td> <th>  Prob (F-statistic):</th>  <td> 0.832</td> \n",
       "</tr>\n",
       "<tr>\n",
       "  <th>Time:</th>                 <td>18:00:21</td>     <th>  Log-Likelihood:    </th> <td> -103.28</td>\n",
       "</tr>\n",
       "<tr>\n",
       "  <th>No. Observations:</th>      <td>    65</td>      <th>  AIC:               </th> <td>   210.6</td>\n",
       "</tr>\n",
       "<tr>\n",
       "  <th>Df Residuals:</th>          <td>    63</td>      <th>  BIC:               </th> <td>   214.9</td>\n",
       "</tr>\n",
       "<tr>\n",
       "  <th>Df Model:</th>              <td>     1</td>      <th>                     </th>     <td> </td>   \n",
       "</tr>\n",
       "<tr>\n",
       "  <th>Covariance Type:</th>         <td>HAC</td>       <th>                     </th>     <td> </td>   \n",
       "</tr>\n",
       "</table>\n",
       "<table class=\"simpletable\">\n",
       "<tr>\n",
       "      <td></td>         <th>coef</th>     <th>std err</th>      <th>z</th>      <th>P>|z|</th>  <th>[0.025</th>    <th>0.975]</th>  \n",
       "</tr>\n",
       "<tr>\n",
       "  <th>Intercept</th> <td>   -0.5279</td> <td>    0.319</td> <td>   -1.656</td> <td> 0.098</td> <td>   -1.153</td> <td>    0.097</td>\n",
       "</tr>\n",
       "<tr>\n",
       "  <th>frevision</th> <td>   -0.1007</td> <td>    0.474</td> <td>   -0.212</td> <td> 0.832</td> <td>   -1.030</td> <td>    0.828</td>\n",
       "</tr>\n",
       "</table>\n",
       "<table class=\"simpletable\">\n",
       "<tr>\n",
       "  <th>Omnibus:</th>       <td>24.573</td> <th>  Durbin-Watson:     </th> <td>   0.114</td>\n",
       "</tr>\n",
       "<tr>\n",
       "  <th>Prob(Omnibus):</th> <td> 0.000</td> <th>  Jarque-Bera (JB):  </th> <td>  36.159</td>\n",
       "</tr>\n",
       "<tr>\n",
       "  <th>Skew:</th>          <td> 1.484</td> <th>  Prob(JB):          </th> <td>1.41e-08</td>\n",
       "</tr>\n",
       "<tr>\n",
       "  <th>Kurtosis:</th>      <td> 5.130</td> <th>  Cond. No.          </th> <td>    3.15</td>\n",
       "</tr>\n",
       "</table><br/><br/>Notes:<br/>[1] Standard Errors are heteroscedasticity and autocorrelation robust (HAC) using 3 lags and without small sample correction"
      ],
      "text/plain": [
       "<class 'statsmodels.iolib.summary.Summary'>\n",
       "\"\"\"\n",
       "                            OLS Regression Results                            \n",
       "==============================================================================\n",
       "Dep. Variable:                 ferror   R-squared:                       0.001\n",
       "Model:                            OLS   Adj. R-squared:                 -0.015\n",
       "Method:                 Least Squares   F-statistic:                   0.04515\n",
       "Date:                Mon, 17 Jan 2022   Prob (F-statistic):              0.832\n",
       "Time:                        18:00:21   Log-Likelihood:                -103.28\n",
       "No. Observations:                  65   AIC:                             210.6\n",
       "Df Residuals:                      63   BIC:                             214.9\n",
       "Df Model:                           1                                         \n",
       "Covariance Type:                  HAC                                         \n",
       "==============================================================================\n",
       "                 coef    std err          z      P>|z|      [0.025      0.975]\n",
       "------------------------------------------------------------------------------\n",
       "Intercept     -0.5279      0.319     -1.656      0.098      -1.153       0.097\n",
       "frevision     -0.1007      0.474     -0.212      0.832      -1.030       0.828\n",
       "==============================================================================\n",
       "Omnibus:                       24.573   Durbin-Watson:                   0.114\n",
       "Prob(Omnibus):                  0.000   Jarque-Bera (JB):               36.159\n",
       "Skew:                           1.484   Prob(JB):                     1.41e-08\n",
       "Kurtosis:                       5.130   Cond. No.                         3.15\n",
       "==============================================================================\n",
       "\n",
       "Notes:\n",
       "[1] Standard Errors are heteroscedasticity and autocorrelation robust (HAC) using 3 lags and without small sample correction\n",
       "\"\"\""
      ]
     },
     "execution_count": 441,
     "metadata": {},
     "output_type": "execute_result"
    }
   ],
   "source": [
    "model = ols(formula='ferror ~ frevision', data=df)\n",
    "fit = model.fit(cov_type = 'HAC', cov_kwds = {'maxlags':3})\n",
    "fit.summary()"
   ]
  },
  {
   "cell_type": "markdown",
   "metadata": {},
   "source": [
    "### Step 10: Interpretation\n",
    "\n",
    "- correlation\n",
    "- Rational Expectation: $\\beta$ should be not significantlly different from 0\n",
    "\n",
    "\n",
    "- small sample size"
   ]
  }
 ],
 "metadata": {
  "interpreter": {
   "hash": "98f8afcc7b498ff748bcf3669bc6fa2980d8228748497c4de9780cb8988f727b"
  },
  "kernelspec": {
   "display_name": "Python 3.8.12 64-bit ('compMacro': conda)",
   "language": "python",
   "name": "python3"
  },
  "language_info": {
   "codemirror_mode": {
    "name": "ipython",
    "version": 3
   },
   "file_extension": ".py",
   "mimetype": "text/x-python",
   "name": "python",
   "nbconvert_exporter": "python",
   "pygments_lexer": "ipython3",
   "version": "3.8.12"
  },
  "orig_nbformat": 4
 },
 "nbformat": 4,
 "nbformat_minor": 2
}
