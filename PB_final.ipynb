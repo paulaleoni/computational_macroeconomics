{
 "cells": [
  {
   "cell_type": "markdown",
   "metadata": {},
   "source": [
    "# Computational Macroeconomics - Final Assignment\n",
    "\n",
    "### Paula Beck\n",
    "04.03.2022"
   ]
  },
  {
   "cell_type": "code",
   "execution_count": 12,
   "metadata": {},
   "outputs": [],
   "source": [
    "# import all necessary packages\n",
    "import numpy as np\n",
    "from scipy.optimize import fsolve\n",
    "import matplotlib.pyplot as plt\n",
    "from matplotlib import cm\n",
    "\n",
    "# set seed for random numbers\n",
    "np.random.seed(123)"
   ]
  },
  {
   "cell_type": "markdown",
   "metadata": {},
   "source": [
    "# #1 Define matrices $A$ and $B$\n",
    "$ A z_t = B$ ; $z_t = [g_t, y_t, \\pi_t, i_t]'$\n",
    "\n",
    "$ A = \\begin{pmatrix}\n",
    "    1 & 0 & 0 & 0 \\\\\n",
    "    - \\bar{g} & 1 & 0 & (1-\\bar{g}) \\sigma^{-1} \\\\\n",
    "    \\kappa \\sigma \\frac{\\bar{g}}{1-\\bar{g}} & -\\kappa(\\frac{\\sigma}{1-\\bar{g}} + \\eta) & 1 & 0 \\\\\n",
    "    0 & -\\phi_y & - \\phi_{\\pi} & 1 \n",
    "  \\end{pmatrix} $\n",
    "\n",
    "$ B = \\begin{pmatrix}\n",
    "      \\rho_g g_{t-1} + \\epsilon_t^9\\\\\n",
    "      E_t y_{t+1} + (1-\\bar{g}) \\sigma^{-1} E_t \\pi_{t+1} - \\bar{g} E_t g_{t+1} \\\\\n",
    "      \\beta E_t \\pi_{t+1} \\\\\n",
    "      0\\\\\n",
    "      \\end{pmatrix}$\n"
   ]
  },
  {
   "cell_type": "code",
   "execution_count": 13,
   "metadata": {},
   "outputs": [],
   "source": [
    "# setup parameters in a dictionary\n",
    "params = {'sigma': 1, 'eta':2, 'kappa': 0.3, 'beta': 0.995, 'phi_pi':1.5, 'phi_y':0.1, 'rho_g':0.7, 'gbar':0.25}\n",
    "\n",
    "# define matrix A\n",
    "a31 = params['kappa']*params['sigma']*params['gbar']/(1-params['gbar'])\n",
    "a32 = -params['kappa']*(params['sigma']/(1-params['gbar']) + params['eta'])\n",
    "A = np.array([[1,0,0,0],\n",
    "                [-params['gbar'],1,0, (1-params['gbar'])*(params['sigma']**(-1))],\n",
    "                [a31,a32,1,0],\n",
    "                [0,-params['phi_y'],-params['phi_pi'],1]])"
   ]
  },
  {
   "cell_type": "markdown",
   "metadata": {},
   "source": [
    "# #2 Define msv function"
   ]
  },
  {
   "cell_type": "code",
   "execution_count": 14,
   "metadata": {},
   "outputs": [],
   "source": [
    "# define function\n",
    "def NKM(input, A = A, params=params):\n",
    "    '''\n",
    "    Returns the difference between input and the implied model which can be used to solve for the msv solution.\n",
    "\n",
    "    Arguments: \n",
    "        input: vector of length 8\n",
    "        A: matrix A\n",
    "        params (dict): parameters of the model\n",
    "\n",
    "    Returns:\n",
    "        dif: vector of differences between input and results of model\n",
    "    '''\n",
    "    # input: 8 elements\n",
    "    cg = input[0:4] # unpack first 4 elements und define them as cg\n",
    "    ce = input[4:8] # unpack next 4 elements und define them as ce\n",
    "\n",
    "    eg, ey, epi, ei = cg * params['rho_g'] # unpack expectations based on equation 6, shock is zero \n",
    "\n",
    "    # define B for gt_1 = 1 and calculate the implied values\n",
    "    B1 = np.array([[params['rho_g']],\n",
    "                    [ey + (1-params['gbar'])*(params['sigma']**(-1)) * epi - params['gbar']*eg],\n",
    "                    [params['beta']* epi],\n",
    "                    [0]])\n",
    "    # calculate the implied values by inv(A)*B\n",
    "    implied1 = np.linalg.inv(A) @ B1\n",
    "\n",
    "    # define B for epsilon t_1 = 1, gt_1=0 and calculate the implied values\n",
    "    B2 = B1.copy() # same as before\n",
    "    B2[0,0] =  1 # change upper left element\n",
    "    implied2 = np.linalg.inv(A) @ B2 # change implied values corresponding to the shock\n",
    "    \n",
    "    # put implied values for cg and ce in one vector\n",
    "    implied = np.append(implied1,implied2)\n",
    "\n",
    "    # calculate the difference between the input values and the implied values by the model\n",
    "    dif = input - implied\n",
    "    # function returns this difference\n",
    "    return dif"
   ]
  },
  {
   "cell_type": "markdown",
   "metadata": {},
   "source": [
    "# #3 MSV solution"
   ]
  },
  {
   "cell_type": "code",
   "execution_count": 15,
   "metadata": {},
   "outputs": [
    {
     "name": "stdout",
     "output_type": "stream",
     "text": [
      "Cg: [0.7        0.08116102 0.03677436 0.06327765] \n",
      " Ce: [1.         0.13059284 0.05620618 0.09736856]\n"
     ]
    }
   ],
   "source": [
    "# make a random guess about the 8 values of the model\n",
    "guess = np.random.randn(8)\n",
    "\n",
    "# use fsolve to calculate the minimum state variable solution \n",
    "msv = fsolve(NKM, guess) #  first input is the function, second is the guess where fsolve should start\n",
    "print('Cg:',msv[0:4], '\\n', 'Ce:', msv[4:8]) # first 4 elements are the values for Cg, the next 4 element correspond to Ce"
   ]
  },
  {
   "cell_type": "markdown",
   "metadata": {},
   "source": [
    "# #4 Calculate impulse responses"
   ]
  },
  {
   "cell_type": "code",
   "execution_count": 16,
   "metadata": {},
   "outputs": [],
   "source": [
    "N = 30 # number of periods\n",
    "epsg = 0.01 # shock to g\n",
    "\n",
    "# unpack and reshape msv solution into vectors, Cg and Ce \n",
    "cg = msv[0:4].reshape(4,1)\n",
    "ce = msv[4:8].reshape(4,1)\n",
    " \n",
    "# start a list in which to save zt\n",
    "# first entry is Ce * error\n",
    "z = [ce * epsg]\n",
    "\n",
    "# loop through N periods\n",
    "for i in range(N):\n",
    "    zt = cg * z[-1][0] # new zt is Cg * gt-1\n",
    "    # z[-1] is last element from list (period t-1), [0] picks the first element from array -> gt-1\n",
    "    z.append(zt) # append new zt to list\n",
    "\n",
    "# unpack elements of zt using list comprehensions\n",
    "gov_spending = [x[0][0] for x in z]\n",
    "output = [x[1][0] for x in z]\n",
    "inflation = [x[2][0] for x in z]\n",
    "interest = [x[3][0] for x in z]"
   ]
  },
  {
   "cell_type": "markdown",
   "metadata": {},
   "source": [
    "# #5 Plot impulse responses"
   ]
  },
  {
   "cell_type": "code",
   "execution_count": 17,
   "metadata": {},
   "outputs": [
    {
     "data": {
      "image/png": "[encoded data removed]",
      "text/plain": [
       "<Figure size 432x288 with 4 Axes>"
      ]
     },
     "metadata": {
      "needs_background": "light"
     },
     "output_type": "display_data"
    }
   ],
   "source": [
    "fig, ax = plt.subplots(2,2) # define figure and axis, including the number of rows and columns for the subfigures\n",
    "cmap = cm.get_cmap('gnuplot') # choose a colormap\n",
    "# for each axis, define the variable, all in dashed lines, and choose a color from the colormap\n",
    "ax[0,0].plot(gov_spending, linestyle = 'dashed', color=cmap(0))\n",
    "ax[0,0].set_title('Government spending') # set title for each subfigure\n",
    "ax[1,0].plot(output, linestyle = 'dashed', color=cmap(0.25) )\n",
    "ax[1,0].set_title('Output')\n",
    "ax[0,1].plot(inflation, linestyle = 'dashed', color=cmap(0.5) )\n",
    "ax[0,1].set_title('Inflation')\n",
    "ax[1,1].plot(interest, linestyle = 'dashed', color=cmap(0.75) )\n",
    "ax[1,1].set_title('Interest rate')\n",
    "fig.suptitle(f'Impulse Responses to a shock in $g_t$ of size $\\epsilon_0^g = {epsg}$', fontsize=16) # title of figure\n",
    "fig.tight_layout() # makes sure the labels from the figures do not overlap\n",
    "plt.show() # show the figure"
   ]
  },
  {
   "cell_type": "markdown",
   "metadata": {},
   "source": [
    "# #6 Interpretation of impulse responses\n",
    "\n",
    "Generally, the autocorrelation in government spending shapes the agent's expectations such that government spending today affects to expected future government spending.\n",
    "Looking at the graphs, one first notcies that government spending reacts one-to-one to a shock in government spending in the first period, which it should be by construction, and then steadily decreases to zero. Output reacts positive to a shock in government spending which is not only influenced by the relation of government spending and output but also by how the other variables react to the shock. However, as we see, output is positively influenced which also makes sense intuitively, i.e if consumption (in form of government spending) increases, total output should increase as well. Especially, because of price stickiness output is mainly demand-driven. Next, also inflation reacts positively. A higher demand results in higher prices which raises inflation naturally according to the Phillips curve. Finally, also the interest rate is increased by a shock in government spending. The interest rate, as determined by the Taylor rule, is a function of output and inflation. So when both, output and inflation, are increased, the interest rate should react in the same way. Also, as we set $\\phi_{\\pi}$ larger than $1$ we ensure that the Taylor principle holds, the nominal interest rates increases more than inflation such that monetary policy can steer the economy, whereby we rule out sunspot equilibria. All in all we should also note that all variables are converging back to their steady state level after around 10 periods such that the impact of a shock in government spending is fading out quite fast."
   ]
  },
  {
   "cell_type": "markdown",
   "metadata": {},
   "source": [
    "# #7 Linear Time Iteration: Function"
   ]
  },
  {
   "cell_type": "code",
   "execution_count": 18,
   "metadata": {},
   "outputs": [],
   "source": [
    "# define a function using the matrices A, M and D as input as well es a first guess an F\n",
    "def lin_time_iter(A, M, D, Fguess):\n",
    "    '''\n",
    "    Performs linear time iteration given the arguments. \n",
    "    Returns F and Q.\n",
    "    '''\n",
    "    # make a while loop as before until the difference between F and Fnew is small enough\n",
    "    F = Fguess\n",
    "    Fnew = np.linalg.inv(A - M @ F) @ D\n",
    "    while np.max(abs(F - Fnew)) > 1e-10:\n",
    "        F = Fnew\n",
    "        Fnew = np.linalg.inv(A - M @ F) @ D\n",
    "    # save the latest F when the loop stops\n",
    "    F_final = Fnew\n",
    "    # Calculate Q\n",
    "    Q = np.linalg.inv(A - M @ F_final)\n",
    "    # function return the solution for F and Q\n",
    "    return F_final, Q"
   ]
  },
  {
   "cell_type": "markdown",
   "metadata": {},
   "source": [
    "# #8 Define Matrices A, M and D\n",
    "\n",
    "$ A z_t = M E z_{t+1} + D z_{t-1} + u_t$"
   ]
  },
  {
   "cell_type": "code",
   "execution_count": 19,
   "metadata": {},
   "outputs": [],
   "source": [
    "A = A # same as before\n",
    "\n",
    "M = np.array([np.zeros(4),\n",
    "            [-params['gbar'],1, (1-params['gbar'])/params['sigma'],0],\n",
    "            [0,0,params['beta'],0],\n",
    "            np.zeros(4)])\n",
    "\n",
    "D = np.zeros((4,4))\n",
    "D[0,0] = params['rho_g']\n",
    "\n",
    "# guess a 4x4 matrix\n",
    "F_init = np.random.randn(4,4)\n",
    "\n",
    "# call the function and save results F and Q\n",
    "F, Q = lin_time_iter(A=A, M=M, D=D, Fguess=F_init)"
   ]
  },
  {
   "cell_type": "code",
   "execution_count": 22,
   "metadata": {},
   "outputs": [
    {
     "name": "stdout",
     "output_type": "stream",
     "text": [
      "[0.7        0.08116102 0.03677436 0.06327765]\n",
      "[1.         0.11594431 0.0525348  0.09039664]\n"
     ]
    }
   ],
   "source": [
    "print(F[:,0]) # should be equal to cg\n",
    "print(Q[:,0]) # should be equal to ce"
   ]
  },
  {
   "cell_type": "markdown",
   "metadata": {},
   "source": [
    "# #9 Interpretation of $F$ and $Q$\n",
    "\n",
    "We should first note that the first columns of $F$ and $Q$ are similar in the way that their elements have the same ratios, i.e. the second element in $F$ is $0.7$ times the second element in $Q$ and so on. The first column of $F$ tells us how $z_t$ reacts to a change in $g_{t-1}$. The first column of $Q$ shows the reaction of $z_t$ to a shock in government spending, the second column would show the reaction to a shock in output and so on. Similarly, the vectors $C_g$ and $C_{\\epsilon g}$ show those reactions and are the same as the first columns of $F$ and $Q$, respectively."
   ]
  }
 ],
 "metadata": {
  "interpreter": {
   "hash": "98f8afcc7b498ff748bcf3669bc6fa2980d8228748497c4de9780cb8988f727b"
  },
  "kernelspec": {
   "display_name": "Python 3.8.12 64-bit ('compMacro': conda)",
   "language": "python",
   "name": "python3"
  },
  "language_info": {
   "codemirror_mode": {
    "name": "ipython",
    "version": 3
   },
   "file_extension": ".py",
   "mimetype": "text/x-python",
   "name": "python",
   "nbconvert_exporter": "python",
   "pygments_lexer": "ipython3",
   "version": "3.8.12"
  },
  "orig_nbformat": 4
 },
 "nbformat": 4,
 "nbformat_minor": 2
}
